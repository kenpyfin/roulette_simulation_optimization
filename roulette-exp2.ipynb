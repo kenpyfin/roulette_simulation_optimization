{
 "cells": [
  {
   "cell_type": "code",
   "execution_count": 1,
   "id": "7ee093c2-1670-4537-9499-48804b914df7",
   "metadata": {},
   "outputs": [],
   "source": [
    "import random\n",
    "import numpy as np\n",
    "# Constants for the roulette wheel\n",
    "BLACK_SLOTS = [2, 4, 6, 8, 10, 11, 13, 15, 17, 20, 22, 24, 26, 28, 29, 31, 33, 35]\n",
    "RED_SLOTS = [1, 3, 5, 7, 9, 12, 14, 16, 18, 19, 21, 23, 25, 27, 30, 32, 34, 36]\n",
    "GREEN_SLOTS = [0, 37]\n",
    "\n",
    "def spin_wheel():\n",
    "    \"\"\"Spins the roulette wheel and returns the winning slot number.\"\"\"\n",
    "    return random.randint(0, 37)\n",
    "\n",
    "\n",
    "def get_slot_color(slot):\n",
    "    \"\"\"Returns the color of the given roulette wheel slot.\"\"\"\n",
    "    if slot in BLACK_SLOTS:\n",
    "        return \"Black\"\n",
    "    elif slot in RED_SLOTS:\n",
    "        return \"Red\"\n",
    "    elif slot in GREEN_SLOTS:\n",
    "        return \"Green\"\n",
    "\n",
    "def calculate_profit(bet_amount_dict: dict, winning_slot):\n",
    "    \"\"\"Calculates the profit or loss from a roulette bet.\n",
    "\n",
    "    Args:\n",
    "    bet_amount_dict: color bet: {\"Red\":10}. number bet: {0:10}\n",
    "\n",
    "    Returns:\n",
    "    The profit or loss from the bet.\n",
    "    \"\"\"\n",
    "    profit = 0\n",
    "    \n",
    "    if \"Red\" in bet_amount_dict.keys():\n",
    "        if winning_slot in RED_SLOTS:\n",
    "            profit += bet_amount_dict[\"Red\"]\n",
    "        else:\n",
    "            profit += -bet_amount_dict[\"Red\"]\n",
    "    if \"Black\" in bet_amount_dict.keys():\n",
    "        if winning_slot in BLACK_SLOTS:\n",
    "            profit += bet_amount_dict[\"Black\"]\n",
    "        else:\n",
    "            profit += -bet_amount_dict[\"Black\"]\n",
    "    if \"Green\" in bet_amount_dict.keys():\n",
    "        if winning_slot in GREEN_SLOTS:\n",
    "            profit += bet_amount_dict[\"Green\"] * 14\n",
    "        else:\n",
    "            profit += -bet_amount_dict[\"Green\"]\n",
    "    if \"1st Quarter\" in bet_amount_dict.keys():\n",
    "        if winning_slot in range(1, 12):\n",
    "            profit += bet_amount_dict[\"1st Quarter\"] * 2\n",
    "        else:\n",
    "            profit += -bet_amount_dict[\"1st Quarter\"]\n",
    "    if \"2nd Quarter\" in bet_amount_dict.keys():\n",
    "        if winning_slot in range(13, 24):\n",
    "            profit += bet_amount_dict[\"2nd Quarter\"] * 2\n",
    "        else:\n",
    "            profit += -bet_amount_dict[\"2nd Quarter\"]\n",
    "    if \"3rd Quarter\" in bet_amount_dict.keys():\n",
    "        if winning_slot in range(25, 36):\n",
    "            profit += bet_amount_dict[\"3rd Quarter\"] * 2\n",
    "        else:\n",
    "            profit += -bet_amount_dict[\"3rd Quarter\"]\n",
    "    if int in [type(x) for x in bet_amount_dict.keys()]:\n",
    "        for key in [x for x in bet_amount_dict.keys() if type(x)==int]:\n",
    "            if winning_slot == key:\n",
    "                profit += bet_amount_dict[winning_slot] * 36\n",
    "            else:\n",
    "                profit += -bet_amount_dict[key]\n",
    "    return profit\n",
    "\n",
    "    \n",
    "def martingal_bet(last_bet_amount, initial_bet_amount,profit: list, max_bet = 100):\n",
    "    if len(profit) == 0:\n",
    "        return initial_bet_amount\n",
    "    if profit[-1] < 0:\n",
    "        now_bet = last_bet_amount * 2 \n",
    "        if now_bet >= max_bet:\n",
    "            return max_bet\n",
    "        else:\n",
    "            return now_bet\n",
    "    else:\n",
    "        return initial_bet_amount\n",
    "\n",
    "def probability_bet(last_bet_amount , initial_bet_amount,profit: list):\n",
    "    pass\n",
    " \n"
   ]
  },
  {
   "cell_type": "code",
   "execution_count": 2,
   "id": "3d58d987-93fc-4a96-8ef7-ec52ef027928",
   "metadata": {},
   "outputs": [],
   "source": [
    "# class baseBetType:\n",
    "#     pass\n",
    "# class singleNumberBet(baseBetType):\n",
    "#     def __init__(self, bet_number):\n",
    "#         self.bet_number = bet_number\n",
    "# class colorBet(baseBetType):\n",
    "#     def __init__(self, bet_color):\n",
    "#         self.bet_color = bet_color"
   ]
  },
  {
   "cell_type": "markdown",
   "id": "e455126f-a309-4269-96fd-1294376b9225",
   "metadata": {
    "jp-MarkdownHeadingCollapsed": true,
    "tags": []
   },
   "source": [
    "### Playground"
   ]
  },
  {
   "cell_type": "code",
   "execution_count": 3,
   "id": "21975ae4-36d6-41d7-9993-59932ab67371",
   "metadata": {},
   "outputs": [],
   "source": [
    "# # perpetual history\n",
    "# stats = []\n",
    "# stats_color = []\n",
    "\n",
    "# # How long we play\n",
    "# num_of_spins_per_play = 10\n",
    "\n",
    "# # How we bet\n",
    "# initial_bet_type = {\"Black\":5, \"3rd Quarter\":0}\n",
    "\n",
    "# def set_dict_value(diction, value):\n",
    "#     for key in diction.keys():\n",
    "#         diction[key] = value\n",
    "#     return diction\n",
    "\n",
    "# total_profit_list = []\n",
    "# all_single_profit_list = []\n",
    "# bet_history = []\n",
    "# def one_sample_play(spins, initial_bet_type):\n",
    "#     cumulate_pl = 0\n",
    "#     single_play_profit_list = []\n",
    "#     bet_type = initial_bet_type.copy()\n",
    "#     for i in range(spins):\n",
    "#         winning_slot = spin_wheel()\n",
    "#         winning_color = get_slot_color(winning_slot)\n",
    "#         for key in bet_type.keys():\n",
    "#             bet_type[key] = martingal_bet(bet_type[key],initial_bet_type[key],single_play_profit_list)\n",
    "#         # bet_amount = martingal_bet(bet_amount,initial_bet_amount,single_play_profit_list)\n",
    "#         bet_history.append(bet_type.copy())\n",
    "# #         bet_type = set_dict_value(bet_type, bet_amount)\n",
    "#         profit = calculate_profit(bet_type, winning_slot)\n",
    "#         single_play_profit_list.append(profit)\n",
    "#         stats.append(winning_slot)\n",
    "#         stats_color.append(winning_color)\n",
    "#         cumulate_pl += profit\n",
    "#     return cumulate_pl, single_play_profit_list\n",
    "\n",
    "\n",
    "# # How many plays\n",
    "# play_count_target=120\n",
    "\n",
    "# for i in range(play_target):\n",
    "#     pl, profit_list = one_sample_play(num_of_spins_per_play, initial_bet_type)\n",
    "#     total_profit_list.append(pl)\n",
    "#     all_single_profit_list.append(profit_list)"
   ]
  },
  {
   "cell_type": "code",
   "execution_count": 883,
   "id": "70b55100-5fd3-43b0-9666-25ea1cbbb4f9",
   "metadata": {},
   "outputs": [
    {
     "data": {
      "text/plain": [
       "50"
      ]
     },
     "execution_count": 883,
     "metadata": {},
     "output_type": "execute_result"
    }
   ],
   "source": [
    "np.array(total_profit_list).max()"
   ]
  },
  {
   "cell_type": "code",
   "execution_count": 884,
   "id": "3c8e4cc0-8f42-4020-8376-b24f1f8450c9",
   "metadata": {},
   "outputs": [
    {
     "data": {
      "text/plain": [
       "-655"
      ]
     },
     "execution_count": 884,
     "metadata": {},
     "output_type": "execute_result"
    }
   ],
   "source": [
    "np.array(total_profit_list).min()"
   ]
  },
  {
   "cell_type": "markdown",
   "id": "fad247f9-822f-4681-a783-1f933f98ab7f",
   "metadata": {},
   "source": [
    "### Optimization"
   ]
  },
  {
   "cell_type": "code",
   "execution_count": 2,
   "id": "84f0630b-49f5-4b0e-988f-781e2f4c7e40",
   "metadata": {},
   "outputs": [],
   "source": [
    "num_of_spins_per_play = 10\n",
    "black_bet = 5\n",
    "\n",
    "def roulette_sim(x):\n",
    "    \n",
    "    black_bet, quarter_bet3, quarter_bet2 = x\n",
    "    \n",
    "    # perpetual history\n",
    "    stats = []\n",
    "    stats_color = []\n",
    "\n",
    "    # How long we play\n",
    "    num_of_spins_per_play = int(10)\n",
    "\n",
    "    # How we bet\n",
    "    initial_bet_type = {\"Black\":black_bet, \"3rd Quarter\":quarter_bet3, \"2nd Quarter\":quarter_bet2}\n",
    "\n",
    "    def set_dict_value(diction, value):\n",
    "        for key in diction.keys():\n",
    "            diction[key] = value\n",
    "        return diction\n",
    "\n",
    "    total_profit_list = []\n",
    "    all_single_profit_list = []\n",
    "    bet_history = []\n",
    "    def one_sample_play(spins, initial_bet_type):\n",
    "        cumulate_pl = 0\n",
    "        single_play_profit_list = []\n",
    "        bet_type = initial_bet_type.copy()\n",
    "        for i in range(spins):\n",
    "            winning_slot = spin_wheel()\n",
    "            winning_color = get_slot_color(winning_slot)\n",
    "            for key in bet_type.keys():\n",
    "                bet_type[key] = martingal_bet(bet_type[key],initial_bet_type[key],single_play_profit_list)\n",
    "            bet_history.append(bet_type.copy())\n",
    "            profit = calculate_profit(bet_type, winning_slot)\n",
    "            single_play_profit_list.append(profit)\n",
    "            stats.append(winning_slot)\n",
    "            stats_color.append(winning_color)\n",
    "            cumulate_pl += profit\n",
    "        return cumulate_pl, single_play_profit_list\n",
    "\n",
    "\n",
    "    # How many plays\n",
    "    play_count_target=5000\n",
    "\n",
    "    for i in range(play_count_target):\n",
    "        pl, profit_list = one_sample_play(num_of_spins_per_play, initial_bet_type)\n",
    "        total_profit_list.append(pl)\n",
    "        all_single_profit_list.append(profit_list)\n",
    "        \n",
    "    return np.array(total_profit_list).mean()\n",
    "    "
   ]
  },
  {
   "cell_type": "code",
   "execution_count": 136,
   "id": "6b56781a-8baa-4298-90e6-41201b71cb37",
   "metadata": {},
   "outputs": [],
   "source": [
    "def random_input():\n",
    "    # generate a random input value\n",
    "    return (random.uniform(0, 10), \n",
    "            random.uniform(0, 10), \n",
    "            random.uniform(0, 10), \n",
    "            random.uniform(0, 10))\n",
    "\n",
    "def mutate(x1, x2, x3, x4):\n",
    "    # mutate the input values by adding a random value\n",
    "    return (x1 + random.uniform(0, 1), \n",
    "            x2 + random.uniform(0, 1), \n",
    "            x3 + random.uniform(0, 1), \n",
    "            x4 + random.uniform(0, 1))\n",
    "\n",
    "def crossover(x1_1, x2_1, x3_1, x4_1, x1_2, x2_2, x3_2, x4_2):\n",
    "    # create new input values by averaging x1_1 and x1_2, and so on\n",
    "    return ((x1_1 + x1_2) / 2, \n",
    "            (x2_1 + x2_2) / 2, \n",
    "            (x3_1 + x3_2) / 2, \n",
    "            (x4_1 + x4_2) / 2)"
   ]
  },
  {
   "cell_type": "code",
   "execution_count": 137,
   "id": "5b72b6f5-0a0c-4299-adf7-7baa4321594d",
   "metadata": {},
   "outputs": [],
   "source": [
    "# def random_input():\n",
    "#     # generate a random input value\n",
    "#     return random.uniform(-10, 10)\n",
    "\n",
    "# def mutate(x):\n",
    "#     # mutate the input value by adding a random value\n",
    "#     return x + random.uniform(-1, 1)\n",
    "\n",
    "# def crossover(x1, x2):\n",
    "#     # create a new input value by averaging x1 and x2\n",
    "#     return (x1 + x2) / 2"
   ]
  },
  {
   "cell_type": "code",
   "execution_count": null,
   "id": "06d4d24b-a23b-402a-8412-3848a15de707",
   "metadata": {},
   "outputs": [],
   "source": [
    "import numpy as np\n",
    "import random\n",
    "\n",
    "\n",
    "def optimize(f, num_generations=100, population_size=50):\n",
    "    # generate the initial population\n",
    "    population = [random_input() for _ in range(population_size)]\n",
    "    \n",
    "    # evaluate the fitness of each member of the population\n",
    "    fitness = [f(*x) for x in population]\n",
    "    \n",
    "    # run the genetic algorithm for the specified number of generations\n",
    "    for generation in range(num_generations):\n",
    "        # sort the population by fitness\n",
    "        population = [x for _, x in sorted(zip(fitness, population))]\n",
    "        \n",
    "        # select the top half of the population for breeding\n",
    "        breeders = population[:population_size // 2]\n",
    "        \n",
    "        # create a new generation of offspring\n",
    "        offspring = []\n",
    "        for i in range(population_size // 2):\n",
    "            # select two parents at random\n",
    "            parent1 = random.choice(breeders)\n",
    "            parent2 = random.choice(breeders)\n",
    "            \n",
    "            # create a child by crossing over the parents\n",
    "            child = crossover(*parent1, *parent2)\n",
    "            \n",
    "            # mutate the child\n",
    "            child = mutate(*child)\n",
    "            \n",
    "            # add the child to the offspring\n",
    "            offspring.append(child)\n",
    "        \n",
    "        # replace the current population with the new generation of offspring\n",
    "        population = offspring\n",
    "        \n",
    "        # evaluate the fitness of the new population\n",
    "        fitness = [f(*x) for x in population]\n",
    "    \n",
    "    # return the best input value found by the genetic algorithm\n",
    "    return max(population, key=f)\n",
    "\n",
    "# find the optimal input for the function\n",
    "optimal_x1, optimal_x2, optimal_x3, optimal_x4 = optimize(roulette_sim)\n",
    "\n",
    "# print the optimal input and the corresponding function value\n",
    "print(f\"Optimal input: ({optimal_x1}, {optimal_x2}, {optimal_x3}, {optimal_x4})\")\n",
    "print(f\"Optimal function value: {f(optimal_x1, optimal_x2, optimal_x3, optimal_x4)}\")"
   ]
  },
  {
   "cell_type": "markdown",
   "id": "99855afe-0aae-4f59-a9ea-be74f171baf4",
   "metadata": {
    "tags": []
   },
   "source": [
    "#### SciPy"
   ]
  },
  {
   "cell_type": "code",
   "execution_count": 4,
   "id": "928e0e5d-0b25-4d61-a79b-c44fc54609f2",
   "metadata": {},
   "outputs": [],
   "source": [
    "import scipy.optimize as sciop"
   ]
  },
  {
   "cell_type": "code",
   "execution_count": 6,
   "id": "255069ff-cd38-4dcc-bb87-7d526ca891f6",
   "metadata": {},
   "outputs": [
    {
     "data": {
      "text/plain": [
       "                        fun: -47.47919761349426\n",
       " lowest_optimization_result:       fun: -47.47919761349426\n",
       " hess_inv: array([[34.57746952,  7.20717407, 17.142628  ],\n",
       "       [ 7.20717407,  2.27066836,  3.14894493],\n",
       "       [17.142628  ,  3.14894493,  8.733036  ]])\n",
       "      jac: array([1.58578888e+08, 1.10708400e+08, 2.28196681e+08])\n",
       "  message: 'Desired error not necessarily achieved due to precision loss.'\n",
       "     nfev: 122\n",
       "      nit: 1\n",
       "     njev: 28\n",
       "   status: 2\n",
       "  success: False\n",
       "        x: array([3.09619245, 1.82906815, 2.26486903])\n",
       "                    message: ['requested number of basinhopping iterations completed successfully']\n",
       "      minimization_failures: 101\n",
       "                       nfev: 10759\n",
       "                        nit: 100\n",
       "                       njev: 2399\n",
       "                          x: array([3.09619245, 1.82906815, 2.26486903])"
      ]
     },
     "execution_count": 6,
     "metadata": {},
     "output_type": "execute_result"
    }
   ],
   "source": [
    "sciop.basinhopping(roulette_sim,[1,1,1]) "
   ]
  },
  {
   "cell_type": "code",
   "execution_count": null,
   "id": "b177a5eb-8434-41be-a34b-d7df22a10caa",
   "metadata": {},
   "outputs": [],
   "source": []
  },
  {
   "cell_type": "code",
   "execution_count": 128,
   "id": "22d8e3d2-82b1-41b9-b52c-c55169024516",
   "metadata": {},
   "outputs": [
    {
     "data": {
      "text/plain": [
       "-0.4187087207499997"
      ]
     },
     "execution_count": 128,
     "metadata": {},
     "output_type": "execute_result"
    }
   ],
   "source": [
    "roulette_sim([2.13024269, 2.88764635])"
   ]
  },
  {
   "cell_type": "code",
   "execution_count": null,
   "id": "f529e0f0-a32d-4ad3-8f5a-2fbb24001256",
   "metadata": {},
   "outputs": [],
   "source": [
    "1"
   ]
  },
  {
   "cell_type": "code",
   "execution_count": null,
   "id": "79c67007-8922-4825-9f24-5c814b561cd7",
   "metadata": {},
   "outputs": [],
   "source": []
  }
 ],
 "metadata": {
  "kernelspec": {
   "display_name": "Python 3 (ipykernel)",
   "language": "python",
   "name": "python3"
  },
  "language_info": {
   "codemirror_mode": {
    "name": "ipython",
    "version": 3
   },
   "file_extension": ".py",
   "mimetype": "text/x-python",
   "name": "python",
   "nbconvert_exporter": "python",
   "pygments_lexer": "ipython3",
   "version": "3.9.7"
  }
 },
 "nbformat": 4,
 "nbformat_minor": 5
}
